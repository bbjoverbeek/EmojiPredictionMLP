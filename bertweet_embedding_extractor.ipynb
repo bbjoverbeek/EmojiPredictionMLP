{
  "cells": [
    {
      "cell_type": "markdown",
      "metadata": {
        "id": "2610ucFC7gfn"
      },
      "source": [
        "# BERTweet word embedding extractor\n",
        "\n",
        "by Björn, Harmen, Joris, Oscar\n",
        "\n",
        "This notebook is meant to extract the CLS embeddings per tweet, and export these embeddings to train other models. This notebook is meant to be run on [Google Collab](https://colab.research.google.com/) with GPU hardware acceleration enabled for the best speed possible when run from a less performant device.\n",
        "\n",
        "To enable GPU hardware acceleration, to to 'Runtime' in the taskbar, then 'Change runtime type', select 'GPU' under hardware acceleration.\n",
        "\n",
        "\n",
        "## Useful information:\n",
        "Here are some additional resources that we found useful while making this notebook:\n",
        "\n",
        "[Illustrated guide on how to use BERT](http://jalammar.github.io/a-visual-guide-to-using-bert-for-the-first-time/)\n",
        "\n",
        "[BERTweet Git repo with example code](https://github.com/VinAIResearch/BERTweet#preprocess)\n",
        "\n",
        "[Explanation of the \\[CLS\\] token](https://datascience.stackexchange.com/questions/66207/what-is-purpose-of-the-cls-token-and-why-is-its-encoding-output-important#:~:text=21-,%5Bcls%5D,-stands%20for%20classification)\n",
        "\n",
        "[Hugging face pipeline documentation](https://huggingface.co/docs/transformers/main_classes/pipelines)"
      ]
    },
    {
      "cell_type": "code",
      "execution_count": null,
      "metadata": {
        "id": "nkHkO9pUAyM8"
      },
      "outputs": [],
      "source": [
        "!pip3 install datasets\n",
        "!pip3 install nltk emoji==0.6.0\n",
        "!pip3 install transformers"
      ]
    },
    {
      "cell_type": "code",
      "execution_count": 10,
      "metadata": {
        "id": "rXSJ1_FwaM9P"
      },
      "outputs": [],
      "source": [
        "# get required files\n",
        "import os\n",
        "if not os.path.exists('./BERTweet/'):\n",
        "  !git clone https://github.com/VinAIResearch/BERTweet/\n",
        "\n",
        "if not os.path.exists('./Semeval2018-Task2-EmojiPrediction/'):\n",
        "  !wget https://github.com/fvancesco/Semeval2018-Task2-Emoji-Detection/blob/master/dataset/Semeval2018-Task2-EmojiPrediction.zip?raw=true\n",
        "  !unzip -q Semeval2018-Task2-EmojiPrediction.zip\\?raw\\=true\n",
        "  !rm -r sample_data __MACOSX/ Semeval2018-Task2-EmojiPrediction.zip\\?raw\\=true"
      ]
    },
    {
      "cell_type": "code",
      "execution_count": 3,
      "metadata": {
        "id": "_KgsKm6_Aq4f"
      },
      "outputs": [],
      "source": [
        "import datasets\n",
        "import torch\n",
        "import numpy as np\n",
        "from transformers import pipeline\n",
        "import pickle\n",
        "import copy\n",
        "\n",
        "from sklearn.pipeline import make_pipeline\n",
        "\n",
        "import sys\n",
        "sys.path.append(\"./BERTweet\")\n",
        "from TweetNormalizer import normalizeTweet\n",
        "\n",
        "from pprint import pprint\n",
        "from tqdm.notebook import tqdm"
      ]
    },
    {
      "cell_type": "code",
      "execution_count": null,
      "metadata": {
        "id": "dJQCorzy71Mp"
      },
      "outputs": [],
      "source": [
        "# Load dataset from Hugging Face\n",
        "\n",
        "dataset = datasets.load_dataset('tweet_eval', 'emoji')\n",
        "\n",
        "# pre-process the dataset (normalizeTweet is from BERTweet github)\n",
        "\n",
        "def preprocess(tweet):\n",
        "  \"\"\"Uses the same method as BERTweet to pre-process the tweets\n",
        "  Tweet is of format dict[str, str | int], and so is the output\n",
        "  \"\"\"\n",
        "  tweet['text'] = normalizeTweet(tweet['text'])\n",
        "  return tweet\n",
        "\n",
        "tokenized_dataset = dataset.map(preprocess)\n",
        "\n",
        "\n",
        "print('\\nBefore pre-processing:')\n",
        "pprint(dataset['train']['text'][:5])\n",
        "\n",
        "print('\\nAfter pre-processing:')\n",
        "pprint(tokenized_dataset['train']['text'][:5])\n",
        "\n",
        "print()\n",
        "dataset"
      ]
    },
    {
      "cell_type": "code",
      "execution_count": null,
      "metadata": {
        "id": "x0THKjGkBp9c"
      },
      "outputs": [],
      "source": [
        "# Check if the test sets of Hugging face and SamEval contain some of the same tweets\n",
        "\n",
        "hugging_face_testset = dataset['test']['text']\n",
        "\n",
        "with open('Semeval2018-Task2-EmojiPrediction/test/us_test.text', 'r') as inp:\n",
        "  sameval_testset = [tweet.rstrip() for tweet in inp.readlines()]\n",
        "\n",
        "print('First 5 sentences of Hugging Face:')\n",
        "pprint(hugging_face_testset[:4])\n",
        "print(f'Length of Hugging Face testset: {len(hugging_face_testset)}')\n",
        "\n",
        "print('--'*30)\n",
        "\n",
        "print('First 5 sentences of SamEval:')\n",
        "pprint(sameval_testset[:4])\n",
        "print(f'Length of SamEval testset: {len(sameval_testset)}')\n",
        "\n",
        "# compute amount of overlap\n",
        "overlap_percentage = len(set(hugging_face_testset) & set(sameval_testset)) / len(hugging_face_testset) * 100\n",
        "print(f'\\nThe amount of overlapping tweets is {overlap_percentage:.2f}%')\n",
        "\n",
        "# Conclusion: we cannot use the Huggin Face test set as extra training data, \n",
        "# because the test set from SamEval (our final measure) is the exactly the same."
      ]
    },
    {
      "cell_type": "code",
      "execution_count": null,
      "metadata": {
        "id": "DQKV27itehGW"
      },
      "outputs": [],
      "source": [
        "# initialize pipeline\n",
        "print(torch.cuda.current_device()) # this value has to be the value of the device parameter\n",
        "\n",
        "pipe = pipeline('feature-extraction', 'vinai/bertweet-large', device=0)"
      ]
    },
    {
      "cell_type": "code",
      "execution_count": null,
      "metadata": {
        "id": "YftzzJv3ULZa"
      },
      "outputs": [],
      "source": [
        "# use pipeline to extract word embeddings (this takes about 40 minutes, 20 per set)\n",
        "\n",
        "train_cls = []\n",
        "test_cls = []\n",
        "\n",
        "print('Creating CLS embeddings for training tweets')\n",
        "for idx, tweet in tqdm(enumerate(tokenized_dataset['train']['text']), total=len(tokenized_dataset['train']['text'])):\n",
        "  train_cls.append(pipe(tweet)[0][0])\n",
        "\n",
        "\n",
        "print('\\nCreating CLS embeddings for test tweets')\n",
        "for idx, tweet in tqdm(enumerate(tokenized_dataset['test']['text']), total=len(tokenized_dataset['test']['text'])):\n",
        "  test_cls.append(pipe(tweet)[0][0])"
      ]
    },
    {
      "cell_type": "code",
      "source": [
        "# write pickles to Google Drive\n",
        "\n",
        "from google.colab import drive\n",
        "drive.mount('/content/gdrive')\n",
        "\n",
        "# create required directory\n",
        "os.makedirs(os.path.dirname('/content/gdrive/My Drive/mlp/'), exist_ok=True)\n",
        "\n",
        "# write files\n",
        "with open('/content/gdrive/My Drive/mlp/train_cls.pickle', 'wb') as outp:\n",
        "  pickle.dump(train_cls, outp)\n",
        "\n",
        "with open('/content/gdrive/My Drive/mlp/test_cls.pickle', 'wb') as outp:\n",
        "  pickle.dump(test_cls, outp)\n",
        "\n",
        "# to prevent runtime disconnection while downloading the files, we wrote to \n",
        "# google drive, and downloaded from there.\n",
        "\n",
        "# add these files to ./data/ in the repository"
      ],
      "metadata": {
        "id": "6baPvPSVRz_-"
      },
      "execution_count": null,
      "outputs": []
    },
    {
      "cell_type": "code",
      "source": [
        "# write pickles to local drive \n",
        "# (useful when running this notebook locally, or with lack of space on Drive)\n",
        "\n",
        "# create required directory\n",
        "os.makedirs(os.path.dirname('./data/'), exist_ok=True)\n",
        "\n",
        "# write files\n",
        "with open('./data/train_cls.pickle', 'wb') as outp:\n",
        "  pickle.dump(train_cls, outp)\n",
        "\n",
        "with open('./data/test_cls.pickle', 'wb') as outp:\n",
        "  pickle.dump(test_cls, outp)"
      ],
      "metadata": {
        "id": "L3zpZV2ZiGco"
      },
      "execution_count": 13,
      "outputs": []
    }
  ],
  "metadata": {
    "colab": {
      "provenance": []
    },
    "gpuClass": "standard",
    "kernelspec": {
      "display_name": "Python 3",
      "name": "python3"
    },
    "language_info": {
      "name": "python"
    },
    "accelerator": "GPU"
  },
  "nbformat": 4,
  "nbformat_minor": 0
}